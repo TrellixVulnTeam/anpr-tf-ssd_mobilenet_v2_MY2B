{
  "nbformat": 4,
  "nbformat_minor": 0,
  "metadata": {
    "colab": {
      "name": "OCR_model.ipynb",
      "provenance": [],
      "collapsed_sections": [
        "RY1daF_lQPsl",
        "6KU2dJsnQZZl",
        "ubxNjlGfQksD",
        "oItQzlw_V-xb",
        "XEsodYOWYC5p",
        "r3DfWPL5XYYF",
        "N5I33FChXk9K",
        "gkCUZh0GZgtq",
        "en4FEtwTcIrp"
      ]
    },
    "kernelspec": {
      "name": "python3",
      "display_name": "Python 3"
    },
    "language_info": {
      "name": "python"
    },
    "accelerator": "GPU"
  },
  "cells": [
    {
      "cell_type": "markdown",
      "metadata": {
        "id": "RY1daF_lQPsl"
      },
      "source": [
        "# Baseline Model with Multi-Layer Perceptrons"
      ]
    },
    {
      "cell_type": "code",
      "metadata": {
        "colab": {
          "base_uri": "https://localhost:8080/"
        },
        "id": "uop7j7I3DpFQ",
        "outputId": "d9f80f1a-daa2-49a7-c323-bdbcea549727"
      },
      "source": [
        "# Baseline MLP for MNIST dataset\n",
        "from keras.datasets import mnist\n",
        "from keras.models import Sequential\n",
        "from keras.layers import Dense\n",
        "from keras.utils import np_utils\n",
        "# load data\n",
        "(X_train, y_train), (X_test, y_test) = mnist.load_data()\n",
        "# flatten 28*28 images to a 784 vector for each image\n",
        "num_pixels = X_train.shape[1] * X_train.shape[2]\n",
        "X_train = X_train.reshape((X_train.shape[0], num_pixels)).astype('float32')\n",
        "X_test = X_test.reshape((X_test.shape[0], num_pixels)).astype('float32')\n",
        "# normalize inputs from 0-255 to 0-1\n",
        "X_train = X_train / 255\n",
        "X_test = X_test / 255\n",
        "# one hot encode outputs\n",
        "y_train = np_utils.to_categorical(y_train)\n",
        "y_test = np_utils.to_categorical(y_test)\n",
        "num_classes = y_test.shape[1]\n",
        "# define baseline model\n",
        "def baseline_model():\n",
        "\t# create model\n",
        "\tmodel = Sequential()\n",
        "\tmodel.add(Dense(num_pixels, input_dim=num_pixels, kernel_initializer='normal', activation='relu'))\n",
        "\tmodel.add(Dense(num_classes, kernel_initializer='normal', activation='softmax'))\n",
        "\t# Compile model\n",
        "\tmodel.compile(loss='categorical_crossentropy', optimizer='adam', metrics=['accuracy'])\n",
        "\treturn model\n",
        "# build the model\n",
        "model = baseline_model()\n",
        "# Fit the model\n",
        "model.fit(X_train, y_train, validation_data=(X_test, y_test), epochs=10, batch_size=200, verbose=2)\n",
        "# Final evaluation of the model\n",
        "scores = model.evaluate(X_test, y_test, verbose=0)\n",
        "print(\"Baseline Error: %.2f%%\" % (100-scores[1]*100))\n"
      ],
      "execution_count": null,
      "outputs": [
        {
          "output_type": "stream",
          "name": "stdout",
          "text": [
            "Downloading data from https://storage.googleapis.com/tensorflow/tf-keras-datasets/mnist.npz\n",
            "11493376/11490434 [==============================] - 0s 0us/step\n",
            "11501568/11490434 [==============================] - 0s 0us/step\n",
            "Epoch 1/10\n",
            "300/300 - 4s - loss: 0.2782 - accuracy: 0.9208 - val_loss: 0.1389 - val_accuracy: 0.9597\n",
            "Epoch 2/10\n",
            "300/300 - 1s - loss: 0.1084 - accuracy: 0.9688 - val_loss: 0.0899 - val_accuracy: 0.9721\n",
            "Epoch 3/10\n",
            "300/300 - 1s - loss: 0.0697 - accuracy: 0.9801 - val_loss: 0.0737 - val_accuracy: 0.9771\n",
            "Epoch 4/10\n",
            "300/300 - 1s - loss: 0.0508 - accuracy: 0.9853 - val_loss: 0.0698 - val_accuracy: 0.9783\n",
            "Epoch 5/10\n",
            "300/300 - 1s - loss: 0.0365 - accuracy: 0.9895 - val_loss: 0.0665 - val_accuracy: 0.9803\n",
            "Epoch 6/10\n",
            "300/300 - 1s - loss: 0.0260 - accuracy: 0.9932 - val_loss: 0.0675 - val_accuracy: 0.9788\n",
            "Epoch 7/10\n",
            "300/300 - 1s - loss: 0.0197 - accuracy: 0.9950 - val_loss: 0.0646 - val_accuracy: 0.9794\n",
            "Epoch 8/10\n",
            "300/300 - 1s - loss: 0.0141 - accuracy: 0.9968 - val_loss: 0.0583 - val_accuracy: 0.9816\n",
            "Epoch 9/10\n",
            "300/300 - 1s - loss: 0.0109 - accuracy: 0.9976 - val_loss: 0.0562 - val_accuracy: 0.9816\n",
            "Epoch 10/10\n",
            "300/300 - 1s - loss: 0.0084 - accuracy: 0.9982 - val_loss: 0.0636 - val_accuracy: 0.9806\n",
            "Baseline Error: 1.94%\n"
          ]
        }
      ]
    },
    {
      "cell_type": "markdown",
      "metadata": {
        "id": "6KU2dJsnQZZl"
      },
      "source": [
        "# Simple Convolutional Neural Network for MNIST\n"
      ]
    },
    {
      "cell_type": "code",
      "metadata": {
        "colab": {
          "base_uri": "https://localhost:8080/"
        },
        "id": "P7ofSzJVQcRs",
        "outputId": "66fa2581-6190-4ad6-eee6-a82a19719345"
      },
      "source": [
        "# Simple CNN for the MNIST Dataset\n",
        "from keras.datasets import mnist\n",
        "from keras.models import Sequential\n",
        "from keras.layers import Dense\n",
        "from keras.layers import Dropout\n",
        "from keras.layers import Flatten\n",
        "from keras.layers.convolutional import Conv2D\n",
        "from keras.layers.convolutional import MaxPooling2D\n",
        "from keras.utils import np_utils\n",
        "# load data\n",
        "(X_train, y_train), (X_test, y_test) = mnist.load_data()\n",
        "# reshape to be [samples][width][height][channels]\n",
        "X_train = X_train.reshape((X_train.shape[0], 28, 28, 1)).astype('float32')\n",
        "X_test = X_test.reshape((X_test.shape[0], 28, 28, 1)).astype('float32')\n",
        "# normalize inputs from 0-255 to 0-1\n",
        "X_train = X_train / 255\n",
        "X_test = X_test / 255\n",
        "# one hot encode outputs\n",
        "y_train = np_utils.to_categorical(y_train)\n",
        "y_test = np_utils.to_categorical(y_test)\n",
        "num_classes = y_test.shape[1]\n",
        "# define a simple CNN model\n",
        "def baseline_model():\n",
        "\t# create model\n",
        "\tmodel = Sequential()\n",
        "\tmodel.add(Conv2D(32, (5, 5), input_shape=(28, 28, 1), activation='relu'))\n",
        "\tmodel.add(MaxPooling2D())\n",
        "\tmodel.add(Dropout(0.2))\n",
        "\tmodel.add(Flatten())\n",
        "\tmodel.add(Dense(128, activation='relu'))\n",
        "\tmodel.add(Dense(num_classes, activation='softmax'))\n",
        "\t# Compile model\n",
        "\tmodel.compile(loss='categorical_crossentropy', optimizer='adam', metrics=['accuracy'])\n",
        "\treturn model\n",
        "# build the model\n",
        "model = baseline_model()\n",
        "# Fit the model\n",
        "model.fit(X_train, y_train, validation_data=(X_test, y_test), epochs=10, batch_size=200)\n",
        "# Final evaluation of the model\n",
        "scores = model.evaluate(X_test, y_test, verbose=0)\n",
        "print(\"CNN Error: %.2f%%\" % (100-scores[1]*100))\n"
      ],
      "execution_count": null,
      "outputs": [
        {
          "output_type": "stream",
          "name": "stdout",
          "text": [
            "Epoch 1/10\n",
            "300/300 [==============================] - 30s 8ms/step - loss: 0.2386 - accuracy: 0.9314 - val_loss: 0.0712 - val_accuracy: 0.9777\n",
            "Epoch 2/10\n",
            "300/300 [==============================] - 2s 7ms/step - loss: 0.0732 - accuracy: 0.9781 - val_loss: 0.0498 - val_accuracy: 0.9843\n",
            "Epoch 3/10\n",
            "300/300 [==============================] - 2s 7ms/step - loss: 0.0520 - accuracy: 0.9841 - val_loss: 0.0513 - val_accuracy: 0.9835\n",
            "Epoch 4/10\n",
            "300/300 [==============================] - 2s 7ms/step - loss: 0.0408 - accuracy: 0.9873 - val_loss: 0.0347 - val_accuracy: 0.9887\n",
            "Epoch 5/10\n",
            "300/300 [==============================] - 2s 8ms/step - loss: 0.0337 - accuracy: 0.9895 - val_loss: 0.0353 - val_accuracy: 0.9882\n",
            "Epoch 6/10\n",
            "300/300 [==============================] - 2s 7ms/step - loss: 0.0288 - accuracy: 0.9909 - val_loss: 0.0318 - val_accuracy: 0.9886\n",
            "Epoch 7/10\n",
            "300/300 [==============================] - 2s 7ms/step - loss: 0.0219 - accuracy: 0.9933 - val_loss: 0.0334 - val_accuracy: 0.9898\n",
            "Epoch 8/10\n",
            "300/300 [==============================] - 2s 7ms/step - loss: 0.0188 - accuracy: 0.9941 - val_loss: 0.0345 - val_accuracy: 0.9892\n",
            "Epoch 9/10\n",
            "300/300 [==============================] - 2s 8ms/step - loss: 0.0173 - accuracy: 0.9944 - val_loss: 0.0307 - val_accuracy: 0.9900\n",
            "Epoch 10/10\n",
            "300/300 [==============================] - 2s 8ms/step - loss: 0.0162 - accuracy: 0.9950 - val_loss: 0.0302 - val_accuracy: 0.9903\n",
            "CNN Error: 0.97%\n"
          ]
        }
      ]
    },
    {
      "cell_type": "markdown",
      "metadata": {
        "id": "ubxNjlGfQksD"
      },
      "source": [
        "# Larger Convolutional Neural Network for MNIST\n"
      ]
    },
    {
      "cell_type": "code",
      "metadata": {
        "colab": {
          "base_uri": "https://localhost:8080/"
        },
        "id": "AzLrZgeNQlVb",
        "outputId": "599850e4-c737-4cf8-f96e-5c759b0bf96a"
      },
      "source": [
        "# Larger CNN for the MNIST Dataset\n",
        "from keras.datasets import mnist\n",
        "from keras.models import Sequential\n",
        "from keras.layers import Dense\n",
        "from keras.layers import Dropout\n",
        "from keras.layers import Flatten\n",
        "from keras.layers.convolutional import Conv2D\n",
        "from keras.layers.convolutional import MaxPooling2D\n",
        "from keras.utils import np_utils\n",
        "# load data\n",
        "(X_train, y_train), (X_test, y_test) = mnist.load_data()\n",
        "# reshape to be [samples][width][height][channels]\n",
        "X_train = X_train.reshape((X_train.shape[0], 28, 28, 1)).astype('float32')\n",
        "X_test = X_test.reshape((X_test.shape[0], 28, 28, 1)).astype('float32')\n",
        "# normalize inputs from 0-255 to 0-1\n",
        "X_train = X_train / 255\n",
        "X_test = X_test / 255\n",
        "# one hot encode outputs\n",
        "y_train = np_utils.to_categorical(y_train)\n",
        "y_test = np_utils.to_categorical(y_test)\n",
        "num_classes = y_test.shape[1]\n",
        "# define the larger model\n",
        "def larger_model():\n",
        "\t# create model\n",
        "\tmodel = Sequential()\n",
        "\tmodel.add(Conv2D(30, (5, 5), input_shape=(28, 28, 1), activation='relu'))\n",
        "\tmodel.add(MaxPooling2D())\n",
        "\tmodel.add(Conv2D(15, (3, 3), activation='relu'))\n",
        "\tmodel.add(MaxPooling2D())\n",
        "\tmodel.add(Dropout(0.2))\n",
        "\tmodel.add(Flatten())\n",
        "\tmodel.add(Dense(128, activation='relu'))\n",
        "\tmodel.add(Dense(50, activation='relu'))\n",
        "\tmodel.add(Dense(num_classes, activation='softmax'))\n",
        "\t# Compile model\n",
        "\tmodel.compile(loss='categorical_crossentropy', optimizer='adam', metrics=['accuracy'])\n",
        "\treturn model\n",
        "# build the model\n",
        "model = larger_model()\n",
        "# Fit the model\n",
        "model.fit(X_train, y_train, validation_data=(X_test, y_test), epochs=10, batch_size=200)\n",
        "# Final evaluation of the model\n",
        "scores = model.evaluate(X_test, y_test, verbose=0)\n",
        "print(\"Large CNN Error: %.2f%%\" % (100-scores[1]*100))\n"
      ],
      "execution_count": null,
      "outputs": [
        {
          "output_type": "stream",
          "name": "stdout",
          "text": [
            "Epoch 1/10\n",
            "300/300 [==============================] - 5s 14ms/step - loss: 0.3678 - accuracy: 0.8843 - val_loss: 0.0751 - val_accuracy: 0.9758\n",
            "Epoch 2/10\n",
            "300/300 [==============================] - 4s 12ms/step - loss: 0.0935 - accuracy: 0.9710 - val_loss: 0.0480 - val_accuracy: 0.9847\n",
            "Epoch 3/10\n",
            "300/300 [==============================] - 3s 12ms/step - loss: 0.0700 - accuracy: 0.9786 - val_loss: 0.0391 - val_accuracy: 0.9875\n",
            "Epoch 4/10\n",
            "300/300 [==============================] - 3s 11ms/step - loss: 0.0577 - accuracy: 0.9815 - val_loss: 0.0311 - val_accuracy: 0.9897\n",
            "Epoch 5/10\n",
            "300/300 [==============================] - 3s 11ms/step - loss: 0.0478 - accuracy: 0.9845 - val_loss: 0.0326 - val_accuracy: 0.9895\n",
            "Epoch 6/10\n",
            "300/300 [==============================] - 3s 11ms/step - loss: 0.0429 - accuracy: 0.9867 - val_loss: 0.0279 - val_accuracy: 0.9901\n",
            "Epoch 7/10\n",
            "300/300 [==============================] - 3s 11ms/step - loss: 0.0381 - accuracy: 0.9879 - val_loss: 0.0259 - val_accuracy: 0.9911\n",
            "Epoch 8/10\n",
            "300/300 [==============================] - 3s 11ms/step - loss: 0.0351 - accuracy: 0.9890 - val_loss: 0.0298 - val_accuracy: 0.9906\n",
            "Epoch 9/10\n",
            "300/300 [==============================] - 3s 11ms/step - loss: 0.0325 - accuracy: 0.9900 - val_loss: 0.0259 - val_accuracy: 0.9913\n",
            "Epoch 10/10\n",
            "300/300 [==============================] - 3s 11ms/step - loss: 0.0306 - accuracy: 0.9901 - val_loss: 0.0236 - val_accuracy: 0.9921\n",
            "Large CNN Error: 0.79%\n"
          ]
        }
      ]
    },
    {
      "cell_type": "markdown",
      "metadata": {
        "id": "oItQzlw_V-xb"
      },
      "source": [
        "# Mnist +  AZ Kaggle"
      ]
    },
    {
      "cell_type": "markdown",
      "metadata": {
        "id": "XEsodYOWYC5p"
      },
      "source": [
        "## Import Libraries"
      ]
    },
    {
      "cell_type": "code",
      "metadata": {
        "id": "tCcParuCX7uC"
      },
      "source": [
        "from tensorflow.keras.datasets import mnist\n",
        "import numpy as np\n",
        "# set the matplotlib backend so figures can be saved in the background\n",
        "import cv2\n",
        "import argparse\n",
        "import numpy as np\n",
        "import matplotlib.pyplot as plt\n",
        "from sklearn.metrics import classification_report\n",
        "from sklearn.model_selection import train_test_split\n",
        "from sklearn.preprocessing import LabelBinarizer\n",
        "from tensorflow.keras.optimizers import SGD\n",
        "from tensorflow.keras.preprocessing.image import ImageDataGenerator\n",
        "\n",
        "# import the necessary packages\n",
        "from tensorflow.keras.models import load_model\n",
        "from imutils.contours import sort_contours\n",
        "import numpy as np\n",
        "import argparse\n",
        "import imutils\n",
        "import cv2\n",
        "\n",
        "from google.colab.patches import cv2_imshow\n",
        "\n",
        "# from typing_extensions import Required\n",
        "import matplotlib\n",
        "matplotlib.use(\"Agg\")\n",
        "# import the necessary packages\n",
        "\n",
        "from tensorflow.keras.layers import BatchNormalization\n",
        "from tensorflow.keras.layers import Conv2D\n",
        "from tensorflow.keras.layers import AveragePooling2D\n",
        "from tensorflow.keras.layers import MaxPooling2D\n",
        "from tensorflow.keras.layers import ZeroPadding2D\n",
        "from tensorflow.keras.layers import Activation\n",
        "from tensorflow.keras.layers import Dense\n",
        "from tensorflow.keras.layers import Flatten\n",
        "from tensorflow.keras.layers import Input\n",
        "from tensorflow.keras.models import Model\n",
        "from tensorflow.keras.layers import add\n",
        "from tensorflow.keras.regularizers import l2\n",
        "from tensorflow.keras import backend as K"
      ],
      "execution_count": null,
      "outputs": []
    },
    {
      "cell_type": "code",
      "metadata": {
        "colab": {
          "base_uri": "https://localhost:8080/"
        },
        "id": "RtbxLNvkWE0b",
        "outputId": "e0e006fb-c6a0-41dd-e8f9-ecb013485271"
      },
      "source": [
        "from google.colab import drive\n",
        "drive.mount('/content/drive')\n",
        "\n",
        "!unzip '/content/drive/MyDrive/Programming/Python Projects/OCR Model/A_Z Handwritten Data.csv.zip'\n"
      ],
      "execution_count": null,
      "outputs": [
        {
          "output_type": "stream",
          "name": "stdout",
          "text": [
            "Drive already mounted at /content/drive; to attempt to forcibly remount, call drive.mount(\"/content/drive\", force_remount=True).\n",
            "Archive:  /content/drive/MyDrive/Programming/Python Projects/OCR Model/A_Z Handwritten Data.csv.zip\n",
            "replace A_Z Handwritten Data.csv? [y]es, [n]o, [A]ll, [N]one, [r]ename: N\n"
          ]
        }
      ]
    },
    {
      "cell_type": "markdown",
      "metadata": {
        "id": "r3DfWPL5XYYF"
      },
      "source": [
        "## Load Dataset"
      ]
    },
    {
      "cell_type": "code",
      "metadata": {
        "id": "-sqUgX6JWB9F"
      },
      "source": [
        "def load_az_dataset(dataset_path):\n",
        "    # initialize the list of data and labels\n",
        "    data = []\n",
        "    labels = []\n",
        "\n",
        "    # loop over the rows of the A-Z handwritten digit dataset\n",
        "    for row in open(dataset_path):\n",
        "        # parse the label and image from the row\n",
        "        row = row.split(\",\")\n",
        "        label = int(row[0])\n",
        "        image = np.array([int(x) for x in row[1:]], dtype=\"uint8\")\n",
        "\n",
        "        # images are represented as single channel (grayscale) images\n",
        "        # that are 28x28=784 pixels -- we need to take this flattened\n",
        "        # 784-d list of numbers and reshape them into a 28x28 matrix\n",
        "        image = image.reshape((28, 28))\n",
        "\n",
        "        # update the list of data and labels\n",
        "        data.append(image)\n",
        "        labels.append(label)\n",
        "\n",
        "        # convert the data and labels to NumPy arrays\n",
        "        data = np.array(data, dtype=\"float32\")\n",
        "        labels = np.array(labels, dtype=\"int\")\n",
        "\n",
        "        # return a 2-tuple of the A-Z data and labels\n",
        "        return (data, labels)\n",
        "\n",
        "\n",
        "def load_zero_nine_dataset():\n",
        "    # load the MNIST dataset and stack the training data and testing\n",
        "    # data together (we'll create our own training and testing splits\n",
        "    # later in the project)\n",
        "    ((trainData, trainLabels), (testData, testLabels)) = mnist.load_data()\n",
        "    data = np.vstack([trainData, testData])\n",
        "    labels = np.hstack([trainLabels, testLabels])\n",
        "    # return a 2-tuple of the MNIST data and labels\n",
        "    return (data, labels)\n"
      ],
      "execution_count": null,
      "outputs": []
    },
    {
      "cell_type": "code",
      "metadata": {
        "colab": {
          "base_uri": "https://localhost:8080/"
        },
        "id": "BzoCG6kQYmIa",
        "outputId": "294beb1d-45c3-4c20-832c-08266f2cb496"
      },
      "source": [
        "# load the A-Z and MNIST datasets, respectively\n",
        "print(\"[INFO] loading datasets...\")\n",
        "\n",
        "(azData, azLabels) = load_az_dataset('/content/A_Z Handwritten Data.csv')\n",
        "(digitsData, digitsLabels) = load_zero_nine_dataset()\n",
        "\n",
        "# the MNIST dataset occupies the labels 0-9, so let's add 10 to every\n",
        "# A-Z label to ensure the A-Z characters are not incorrectly labeled\n",
        "# as digits\n",
        "azLabels += 10\n",
        "\n",
        "\n",
        "# stack the A-Z data and labels with the MNIST digits data and labels\n",
        "data = np.vstack([azData, digitsData])\n",
        "labels = np.hstack([azLabels, digitsLabels])\n"
      ],
      "execution_count": null,
      "outputs": [
        {
          "output_type": "stream",
          "name": "stdout",
          "text": [
            "[INFO] loading datasets...\n"
          ]
        }
      ]
    },
    {
      "cell_type": "markdown",
      "metadata": {
        "id": "N5I33FChXk9K"
      },
      "source": [
        "## Data Pre Processing"
      ]
    },
    {
      "cell_type": "code",
      "metadata": {
        "id": "Ql-i71xqYzRu"
      },
      "source": [
        "# each image in the A-Z and MNIST digts datasets are 28x28 pixels;\n",
        "# however, the architecture we're using is designed for 32x32 images,\n",
        "# so we need to resize them to 32x32\n",
        "data = [cv2.resize(image, (32, 32)) for image in data]\n",
        "data = np.array(data, dtype=\"float32\")\n",
        "\n",
        "# add a channel dimension to every image in the dataset and scale the\n",
        "# pixel intensities of the images from [0, 255] down to [0, 1]\n",
        "data = np.expand_dims(data, axis=-1)\n",
        "data /= 255.0\n",
        "\n",
        "# convert the labels from integers to vectors\n",
        "le = LabelBinarizer()\n",
        "\n",
        "labels = le.fit_transform(labels)\n",
        "ounts = labels.sum(axis=0)\n",
        "\n",
        "# account for skew in the labeled data\n",
        "classTotals = labels.sum(axis=0)\n",
        "classWeight = {}\n",
        "\n",
        "# loop over all classes and calculate the class weight\n",
        "for i in range(0, len(classTotals)):\n",
        "    classWeight[i] = classTotals.max() / classTotals[i]\n",
        "\n",
        "# partition the data into training and testing splits using 80% of\n",
        "# the data for training and the remaining 20% for testing\n",
        "(trainX, testX, trainY, testY) = train_test_split(data,\n",
        "                                                  labels, test_size=0.20, stratify=None, random_state=42)\n",
        "\n",
        "# construct the image generator for data augmentation\n",
        "aug = ImageDataGenerator(rotation_range=10, zoom_range=0.05, width_shift_range=0.1,\n",
        "                         height_shift_range=0.1, shear_range=0.15, horizontal_flip=False, fill_mode=\"nearest\")"
      ],
      "execution_count": null,
      "outputs": []
    },
    {
      "cell_type": "markdown",
      "metadata": {
        "id": "gkCUZh0GZgtq"
      },
      "source": [
        "## Model Compile and Train"
      ]
    },
    {
      "cell_type": "code",
      "metadata": {
        "id": "6FJ3d0FfZiDp"
      },
      "source": [
        "class ResNet:\n",
        "    @staticmethod\n",
        "    def residual_module(data, K, stride, chanDim, red=False,\n",
        "                        reg=0.0001, bnEps=2e-5, bnMom=0.9):\n",
        "        # the shortcut branch of the ResNet module should be\n",
        "        # initialize as the input (identity) data\n",
        "        shortcut = data\n",
        "\n",
        "        # the first block of the ResNet module are the 1x1 CONVs\n",
        "        bn1 = BatchNormalization(axis=chanDim, epsilon=bnEps,\n",
        "                                 momentum=bnMom)(data)\n",
        "        act1 = Activation(\"relu\")(bn1)\n",
        "        conv1 = Conv2D(int(K * 0.25), (1, 1), use_bias=False,\n",
        "                       kernel_regularizer=l2(reg))(act1)\n",
        "\n",
        "        # the second block of the ResNet module are the 3x3 CONVs\n",
        "        bn2 = BatchNormalization(axis=chanDim, epsilon=bnEps,\n",
        "                                 momentum=bnMom)(conv1)\n",
        "        act2 = Activation(\"relu\")(bn2)\n",
        "        conv2 = Conv2D(int(K * 0.25), (3, 3), strides=stride,\n",
        "                       padding=\"same\", use_bias=False,\n",
        "                       kernel_regularizer=l2(reg))(act2)\n",
        "\n",
        "        # the third block of the ResNet module is another set of 1x1\n",
        "        # CONVs\n",
        "        bn3 = BatchNormalization(axis=chanDim, epsilon=bnEps,\n",
        "                                 momentum=bnMom)(conv2)\n",
        "        act3 = Activation(\"relu\")(bn3)\n",
        "        conv3 = Conv2D(K, (1, 1), use_bias=False,\n",
        "                       kernel_regularizer=l2(reg))(act3)\n",
        "\n",
        "        # if we are to reduce the spatial size, apply a CONV layer to\n",
        "        # the shortcut\n",
        "        if red:\n",
        "            shortcut = Conv2D(K, (1, 1), strides=stride,\n",
        "                              use_bias=False, kernel_regularizer=l2(reg))(act1)\n",
        "\n",
        "        # add together the shortcut and the final CONV\n",
        "        x = add([conv3, shortcut])\n",
        "\n",
        "        # return the addition as the output of the ResNet module\n",
        "        return x\n",
        "\n",
        "    @staticmethod\n",
        "    def build(width, height, depth, classes, stages, filters,\n",
        "              reg=0.0001, bnEps=2e-5, bnMom=0.9, dataset=\"cifar\"):\n",
        "        # initialize the input shape to be \"channels last\" and the\n",
        "        # channels dimension itself\n",
        "        inputShape = (height, width, depth)\n",
        "        chanDim = -1\n",
        "\n",
        "        # if we are using \"channels first\", update the input shape\n",
        "        # and channels dimension\n",
        "        if K.image_data_format() == \"channels_first\":\n",
        "            inputShape = (depth, height, width)\n",
        "            chanDim = 1\n",
        "\n",
        "        # set the input and apply BN\n",
        "        inputs = Input(shape=inputShape)\n",
        "        x = BatchNormalization(axis=chanDim, epsilon=bnEps,\n",
        "                               momentum=bnMom)(inputs)\n",
        "\n",
        "        # check if we are utilizing the CIFAR dataset\n",
        "        if dataset == \"cifar\":\n",
        "            # apply a single CONV layer\n",
        "            x = Conv2D(filters[0], (3, 3), use_bias=False,\n",
        "                       padding=\"same\", kernel_regularizer=l2(reg))(x)\n",
        "\n",
        "        # check to see if we are using the Tiny ImageNet dataset\n",
        "        elif dataset == \"tiny_imagenet\":\n",
        "            # apply CONV => BN => ACT => POOL to reduce spatial size\n",
        "            x = Conv2D(filters[0], (5, 5), use_bias=False,\n",
        "                       padding=\"same\", kernel_regularizer=l2(reg))(x)\n",
        "            x = BatchNormalization(axis=chanDim, epsilon=bnEps,\n",
        "                                   momentum=bnMom)(x)\n",
        "            x = Activation(\"relu\")(x)\n",
        "            x = ZeroPadding2D((1, 1))(x)\n",
        "            x = MaxPooling2D((3, 3), strides=(2, 2))(x)\n",
        "\n",
        "        # loop over the number of stages\n",
        "        for i in range(0, len(stages)):\n",
        "            # initialize the stride, then apply a residual module\n",
        "            # used to reduce the spatial size of the input volume\n",
        "            stride = (1, 1) if i == 0 else (2, 2)\n",
        "            x = ResNet.residual_module(x, filters[i + 1], stride,\n",
        "                                       chanDim, red=True, bnEps=bnEps, bnMom=bnMom)\n",
        "\n",
        "            # loop over the number of layers in the stage\n",
        "            for j in range(0, stages[i] - 1):\n",
        "                # apply a ResNet module\n",
        "                x = ResNet.residual_module(x, filters[i + 1],\n",
        "                                           (1, 1), chanDim, bnEps=bnEps, bnMom=bnMom)\n",
        "\n",
        "        # apply BN => ACT => POOL\n",
        "        x = BatchNormalization(axis=chanDim, epsilon=bnEps,\n",
        "                               momentum=bnMom)(x)\n",
        "        x = Activation(\"relu\")(x)\n",
        "        x = AveragePooling2D((8, 8))(x)\n",
        "\n",
        "        # softmax classifier\n",
        "        x = Flatten()(x)\n",
        "        x = Dense(classes, kernel_regularizer=l2(reg))(x)\n",
        "        x = Activation(\"softmax\")(x)\n",
        "\n",
        "        # create the model\n",
        "        model = Model(inputs, x, name=\"resnet\")\n",
        "\n",
        "        # return the constructed network architecture\n",
        "        return model"
      ],
      "execution_count": null,
      "outputs": []
    },
    {
      "cell_type": "code",
      "metadata": {
        "colab": {
          "base_uri": "https://localhost:8080/",
          "height": 523
        },
        "id": "1yYeaS9EZ3kZ",
        "outputId": "4790a9fd-37c2-480a-b719-7ed6bc92d4a1"
      },
      "source": [
        "# initialize the number of epochs to train for, initial learning rate,\n",
        "# and batch size\n",
        "EPOCHS = 50\n",
        "INIT_LR = 1e-1\n",
        "BS = 128\n",
        "\n",
        "# initialize and compile our deep neural network\n",
        "print(\"[INFO] compiling model...\")\n",
        "\n",
        "opt = SGD(lr=INIT_LR, decay=INIT_LR / EPOCHS)\n",
        "model = ResNet.build(32, 32, 1, len(le.classes_), (3, 3, 3),\n",
        "                     (64, 64, 128, 256), reg=0.0005)\n",
        "model.compile(loss=\"categorical_crossentropy\",\n",
        "              optimizer=opt, metrics=[\"accuracy\"])\n",
        "\n",
        "# train the network\n",
        "print(\"[INFO] training network...\")\n",
        "\n",
        "H = model.fit(\n",
        "    aug.flow(trainX, trainY, batch_size=BS), validation_data=(testX, testY), steps_per_epoch=len(trainX) // BS, epochs=EPOCHS,\n",
        "    class_weight=classWeight,\n",
        "    verbose=1)\n",
        "\n",
        "# define the list of label names\n",
        "labelNames = \"0123456789\"\n",
        "labelNames += \"ABCDEFGHIJKLMNOPQRSTUVWXYZ\"\n",
        "labelNames = [l for l in labelNames]\n",
        "\n",
        "# evaluate the network\n",
        "print(\"[INFO] evaluating network...\")\n",
        "predictions = model.predict(testX, batch_size=BS)\n",
        "print(classification_report(testY.argmax(axis=1),\n",
        "                            predictions.argmax(axis=1), target_names=labelNames))\n",
        "\n",
        "# save the model to disk\n",
        "print()\n",
        "model.save('ocr_model.h5', save_format=\"h5\")\n",
        "\n",
        "# construct a plot that plots and saves the training history\n",
        "N = np.arange(0, EPOCHS)\n",
        "plt.style.use(\"ggplot\")\n",
        "plt.figure()\n",
        "plt.plot(N, H.history[\"loss\"], label=\"train_loss\")\n",
        "plt.plot(N, H.history[\"val_loss\"], label=\"val_loss\")\n",
        "plt.title(\"Trainning Loss and Accuracy\")\n",
        "plt.xlabel(\"Epoch #\")\n",
        "plt.ylabel(\"Loss/Accuracy\")\n",
        "plt.legend(loc=\"lower left\")\n",
        "plt.savefig(args[\"plot\"])\n",
        "\n",
        "images = [] \n",
        "# randomly select a few testing characters\n",
        "for i in np.random.choice(np.arange(0, len(testY)), size=(49,)):\n",
        "    # classify the character\n",
        "    probs = model.predict(testX[np.newaxis, i])\n",
        "prediction = probs.argmax(axis=1)\n",
        "label = labelNames[prediction[0]]\n",
        "\n",
        "# extract the image from the test data and initialize the text\n",
        "# label color as green (correct)\n",
        "image = (testX[i] * 255).astype(\"uint8\")\n",
        "color = (0, 255, 0)\n",
        "\n",
        "# otherwise, the class label prediction is incorrect\n",
        "if prediction[0] != np.argmax(testY[i]):\n",
        "    color = (0, 0, 255)\n",
        "\n",
        "# merge the channels into one image, resize the image from 32x32\n",
        "# to 96x96 so we can better see it and then draw the predicted\n",
        "# label on the image\n",
        "image = cv2.merge([image] * 3)\n",
        "image = cv2.resize(image, (96, 96), interpolation=cv2.INTER_LINEAR)\n",
        "cv2.putText(image, label, (5, 20), cv2.FONT_HERSHEY_SIMPLEX, 0.75,\n",
        "color, 2)\n",
        "\n",
        "# add the image to our list of output images\n",
        "images.append(image)\n",
        "\n",
        "# construct the montage for the images\n",
        "montage = build_montages(images, (96, 96), (7, 7))[0]\n",
        "\n",
        "# show the output montage\n",
        "print(\"OCR Results\")\n",
        "cv2_imshow(montage)\n"
      ],
      "execution_count": null,
      "outputs": [
        {
          "output_type": "stream",
          "name": "stdout",
          "text": [
            "[INFO] compiling model...\n"
          ]
        },
        {
          "output_type": "stream",
          "name": "stderr",
          "text": [
            "/usr/local/lib/python3.7/dist-packages/keras/optimizer_v2/optimizer_v2.py:356: UserWarning: The `lr` argument is deprecated, use `learning_rate` instead.\n",
            "  \"The `lr` argument is deprecated, use `learning_rate` instead.\")\n"
          ]
        },
        {
          "output_type": "stream",
          "name": "stdout",
          "text": [
            "[INFO] training network...\n",
            "Epoch 1/50\n",
            "186/437 [===========>..................] - ETA: 11:01 - loss: 1.4612 - accuracy: 0.6965"
          ]
        },
        {
          "output_type": "error",
          "ename": "KeyboardInterrupt",
          "evalue": "ignored",
          "traceback": [
            "\u001b[0;31m---------------------------------------------------------------------------\u001b[0m",
            "\u001b[0;31mKeyboardInterrupt\u001b[0m                         Traceback (most recent call last)",
            "\u001b[0;32m<ipython-input-26-699df2f13ef0>\u001b[0m in \u001b[0;36m<module>\u001b[0;34m()\u001b[0m\n\u001b[1;32m     20\u001b[0m     \u001b[0maug\u001b[0m\u001b[0;34m.\u001b[0m\u001b[0mflow\u001b[0m\u001b[0;34m(\u001b[0m\u001b[0mtrainX\u001b[0m\u001b[0;34m,\u001b[0m \u001b[0mtrainY\u001b[0m\u001b[0;34m,\u001b[0m \u001b[0mbatch_size\u001b[0m\u001b[0;34m=\u001b[0m\u001b[0mBS\u001b[0m\u001b[0;34m)\u001b[0m\u001b[0;34m,\u001b[0m \u001b[0mvalidation_data\u001b[0m\u001b[0;34m=\u001b[0m\u001b[0;34m(\u001b[0m\u001b[0mtestX\u001b[0m\u001b[0;34m,\u001b[0m \u001b[0mtestY\u001b[0m\u001b[0;34m)\u001b[0m\u001b[0;34m,\u001b[0m \u001b[0msteps_per_epoch\u001b[0m\u001b[0;34m=\u001b[0m\u001b[0mlen\u001b[0m\u001b[0;34m(\u001b[0m\u001b[0mtrainX\u001b[0m\u001b[0;34m)\u001b[0m \u001b[0;34m//\u001b[0m \u001b[0mBS\u001b[0m\u001b[0;34m,\u001b[0m \u001b[0mepochs\u001b[0m\u001b[0;34m=\u001b[0m\u001b[0mEPOCHS\u001b[0m\u001b[0;34m,\u001b[0m\u001b[0;34m\u001b[0m\u001b[0;34m\u001b[0m\u001b[0m\n\u001b[1;32m     21\u001b[0m     \u001b[0mclass_weight\u001b[0m\u001b[0;34m=\u001b[0m\u001b[0mclassWeight\u001b[0m\u001b[0;34m,\u001b[0m\u001b[0;34m\u001b[0m\u001b[0;34m\u001b[0m\u001b[0m\n\u001b[0;32m---> 22\u001b[0;31m     verbose=1)\n\u001b[0m\u001b[1;32m     23\u001b[0m \u001b[0;34m\u001b[0m\u001b[0m\n\u001b[1;32m     24\u001b[0m \u001b[0;31m# define the list of label names\u001b[0m\u001b[0;34m\u001b[0m\u001b[0;34m\u001b[0m\u001b[0;34m\u001b[0m\u001b[0m\n",
            "\u001b[0;32m/usr/local/lib/python3.7/dist-packages/keras/engine/training.py\u001b[0m in \u001b[0;36mfit\u001b[0;34m(self, x, y, batch_size, epochs, verbose, callbacks, validation_split, validation_data, shuffle, class_weight, sample_weight, initial_epoch, steps_per_epoch, validation_steps, validation_batch_size, validation_freq, max_queue_size, workers, use_multiprocessing)\u001b[0m\n\u001b[1;32m   1182\u001b[0m                 _r=1):\n\u001b[1;32m   1183\u001b[0m               \u001b[0mcallbacks\u001b[0m\u001b[0;34m.\u001b[0m\u001b[0mon_train_batch_begin\u001b[0m\u001b[0;34m(\u001b[0m\u001b[0mstep\u001b[0m\u001b[0;34m)\u001b[0m\u001b[0;34m\u001b[0m\u001b[0;34m\u001b[0m\u001b[0m\n\u001b[0;32m-> 1184\u001b[0;31m               \u001b[0mtmp_logs\u001b[0m \u001b[0;34m=\u001b[0m \u001b[0mself\u001b[0m\u001b[0;34m.\u001b[0m\u001b[0mtrain_function\u001b[0m\u001b[0;34m(\u001b[0m\u001b[0miterator\u001b[0m\u001b[0;34m)\u001b[0m\u001b[0;34m\u001b[0m\u001b[0;34m\u001b[0m\u001b[0m\n\u001b[0m\u001b[1;32m   1185\u001b[0m               \u001b[0;32mif\u001b[0m \u001b[0mdata_handler\u001b[0m\u001b[0;34m.\u001b[0m\u001b[0mshould_sync\u001b[0m\u001b[0;34m:\u001b[0m\u001b[0;34m\u001b[0m\u001b[0;34m\u001b[0m\u001b[0m\n\u001b[1;32m   1186\u001b[0m                 \u001b[0mcontext\u001b[0m\u001b[0;34m.\u001b[0m\u001b[0masync_wait\u001b[0m\u001b[0;34m(\u001b[0m\u001b[0;34m)\u001b[0m\u001b[0;34m\u001b[0m\u001b[0;34m\u001b[0m\u001b[0m\n",
            "\u001b[0;32m/usr/local/lib/python3.7/dist-packages/tensorflow/python/eager/def_function.py\u001b[0m in \u001b[0;36m__call__\u001b[0;34m(self, *args, **kwds)\u001b[0m\n\u001b[1;32m    883\u001b[0m \u001b[0;34m\u001b[0m\u001b[0m\n\u001b[1;32m    884\u001b[0m       \u001b[0;32mwith\u001b[0m \u001b[0mOptionalXlaContext\u001b[0m\u001b[0;34m(\u001b[0m\u001b[0mself\u001b[0m\u001b[0;34m.\u001b[0m\u001b[0m_jit_compile\u001b[0m\u001b[0;34m)\u001b[0m\u001b[0;34m:\u001b[0m\u001b[0;34m\u001b[0m\u001b[0;34m\u001b[0m\u001b[0m\n\u001b[0;32m--> 885\u001b[0;31m         \u001b[0mresult\u001b[0m \u001b[0;34m=\u001b[0m \u001b[0mself\u001b[0m\u001b[0;34m.\u001b[0m\u001b[0m_call\u001b[0m\u001b[0;34m(\u001b[0m\u001b[0;34m*\u001b[0m\u001b[0margs\u001b[0m\u001b[0;34m,\u001b[0m \u001b[0;34m**\u001b[0m\u001b[0mkwds\u001b[0m\u001b[0;34m)\u001b[0m\u001b[0;34m\u001b[0m\u001b[0;34m\u001b[0m\u001b[0m\n\u001b[0m\u001b[1;32m    886\u001b[0m \u001b[0;34m\u001b[0m\u001b[0m\n\u001b[1;32m    887\u001b[0m       \u001b[0mnew_tracing_count\u001b[0m \u001b[0;34m=\u001b[0m \u001b[0mself\u001b[0m\u001b[0;34m.\u001b[0m\u001b[0mexperimental_get_tracing_count\u001b[0m\u001b[0;34m(\u001b[0m\u001b[0;34m)\u001b[0m\u001b[0;34m\u001b[0m\u001b[0;34m\u001b[0m\u001b[0m\n",
            "\u001b[0;32m/usr/local/lib/python3.7/dist-packages/tensorflow/python/eager/def_function.py\u001b[0m in \u001b[0;36m_call\u001b[0;34m(self, *args, **kwds)\u001b[0m\n\u001b[1;32m    915\u001b[0m       \u001b[0;31m# In this case we have created variables on the first call, so we run the\u001b[0m\u001b[0;34m\u001b[0m\u001b[0;34m\u001b[0m\u001b[0;34m\u001b[0m\u001b[0m\n\u001b[1;32m    916\u001b[0m       \u001b[0;31m# defunned version which is guaranteed to never create variables.\u001b[0m\u001b[0;34m\u001b[0m\u001b[0;34m\u001b[0m\u001b[0;34m\u001b[0m\u001b[0m\n\u001b[0;32m--> 917\u001b[0;31m       \u001b[0;32mreturn\u001b[0m \u001b[0mself\u001b[0m\u001b[0;34m.\u001b[0m\u001b[0m_stateless_fn\u001b[0m\u001b[0;34m(\u001b[0m\u001b[0;34m*\u001b[0m\u001b[0margs\u001b[0m\u001b[0;34m,\u001b[0m \u001b[0;34m**\u001b[0m\u001b[0mkwds\u001b[0m\u001b[0;34m)\u001b[0m  \u001b[0;31m# pylint: disable=not-callable\u001b[0m\u001b[0;34m\u001b[0m\u001b[0;34m\u001b[0m\u001b[0m\n\u001b[0m\u001b[1;32m    918\u001b[0m     \u001b[0;32melif\u001b[0m \u001b[0mself\u001b[0m\u001b[0;34m.\u001b[0m\u001b[0m_stateful_fn\u001b[0m \u001b[0;32mis\u001b[0m \u001b[0;32mnot\u001b[0m \u001b[0;32mNone\u001b[0m\u001b[0;34m:\u001b[0m\u001b[0;34m\u001b[0m\u001b[0;34m\u001b[0m\u001b[0m\n\u001b[1;32m    919\u001b[0m       \u001b[0;31m# Release the lock early so that multiple threads can perform the call\u001b[0m\u001b[0;34m\u001b[0m\u001b[0;34m\u001b[0m\u001b[0;34m\u001b[0m\u001b[0m\n",
            "\u001b[0;32m/usr/local/lib/python3.7/dist-packages/tensorflow/python/eager/function.py\u001b[0m in \u001b[0;36m__call__\u001b[0;34m(self, *args, **kwargs)\u001b[0m\n\u001b[1;32m   3038\u001b[0m        filtered_flat_args) = self._maybe_define_function(args, kwargs)\n\u001b[1;32m   3039\u001b[0m     return graph_function._call_flat(\n\u001b[0;32m-> 3040\u001b[0;31m         filtered_flat_args, captured_inputs=graph_function.captured_inputs)  # pylint: disable=protected-access\n\u001b[0m\u001b[1;32m   3041\u001b[0m \u001b[0;34m\u001b[0m\u001b[0m\n\u001b[1;32m   3042\u001b[0m   \u001b[0;34m@\u001b[0m\u001b[0mproperty\u001b[0m\u001b[0;34m\u001b[0m\u001b[0;34m\u001b[0m\u001b[0m\n",
            "\u001b[0;32m/usr/local/lib/python3.7/dist-packages/tensorflow/python/eager/function.py\u001b[0m in \u001b[0;36m_call_flat\u001b[0;34m(self, args, captured_inputs, cancellation_manager)\u001b[0m\n\u001b[1;32m   1962\u001b[0m       \u001b[0;31m# No tape is watching; skip to running the function.\u001b[0m\u001b[0;34m\u001b[0m\u001b[0;34m\u001b[0m\u001b[0;34m\u001b[0m\u001b[0m\n\u001b[1;32m   1963\u001b[0m       return self._build_call_outputs(self._inference_function.call(\n\u001b[0;32m-> 1964\u001b[0;31m           ctx, args, cancellation_manager=cancellation_manager))\n\u001b[0m\u001b[1;32m   1965\u001b[0m     forward_backward = self._select_forward_and_backward_functions(\n\u001b[1;32m   1966\u001b[0m         \u001b[0margs\u001b[0m\u001b[0;34m,\u001b[0m\u001b[0;34m\u001b[0m\u001b[0;34m\u001b[0m\u001b[0m\n",
            "\u001b[0;32m/usr/local/lib/python3.7/dist-packages/tensorflow/python/eager/function.py\u001b[0m in \u001b[0;36mcall\u001b[0;34m(self, ctx, args, cancellation_manager)\u001b[0m\n\u001b[1;32m    594\u001b[0m               \u001b[0minputs\u001b[0m\u001b[0;34m=\u001b[0m\u001b[0margs\u001b[0m\u001b[0;34m,\u001b[0m\u001b[0;34m\u001b[0m\u001b[0;34m\u001b[0m\u001b[0m\n\u001b[1;32m    595\u001b[0m               \u001b[0mattrs\u001b[0m\u001b[0;34m=\u001b[0m\u001b[0mattrs\u001b[0m\u001b[0;34m,\u001b[0m\u001b[0;34m\u001b[0m\u001b[0;34m\u001b[0m\u001b[0m\n\u001b[0;32m--> 596\u001b[0;31m               ctx=ctx)\n\u001b[0m\u001b[1;32m    597\u001b[0m         \u001b[0;32melse\u001b[0m\u001b[0;34m:\u001b[0m\u001b[0;34m\u001b[0m\u001b[0;34m\u001b[0m\u001b[0m\n\u001b[1;32m    598\u001b[0m           outputs = execute.execute_with_cancellation(\n",
            "\u001b[0;32m/usr/local/lib/python3.7/dist-packages/tensorflow/python/eager/execute.py\u001b[0m in \u001b[0;36mquick_execute\u001b[0;34m(op_name, num_outputs, inputs, attrs, ctx, name)\u001b[0m\n\u001b[1;32m     58\u001b[0m     \u001b[0mctx\u001b[0m\u001b[0;34m.\u001b[0m\u001b[0mensure_initialized\u001b[0m\u001b[0;34m(\u001b[0m\u001b[0;34m)\u001b[0m\u001b[0;34m\u001b[0m\u001b[0;34m\u001b[0m\u001b[0m\n\u001b[1;32m     59\u001b[0m     tensors = pywrap_tfe.TFE_Py_Execute(ctx._handle, device_name, op_name,\n\u001b[0;32m---> 60\u001b[0;31m                                         inputs, attrs, num_outputs)\n\u001b[0m\u001b[1;32m     61\u001b[0m   \u001b[0;32mexcept\u001b[0m \u001b[0mcore\u001b[0m\u001b[0;34m.\u001b[0m\u001b[0m_NotOkStatusException\u001b[0m \u001b[0;32mas\u001b[0m \u001b[0me\u001b[0m\u001b[0;34m:\u001b[0m\u001b[0;34m\u001b[0m\u001b[0;34m\u001b[0m\u001b[0m\n\u001b[1;32m     62\u001b[0m     \u001b[0;32mif\u001b[0m \u001b[0mname\u001b[0m \u001b[0;32mis\u001b[0m \u001b[0;32mnot\u001b[0m \u001b[0;32mNone\u001b[0m\u001b[0;34m:\u001b[0m\u001b[0;34m\u001b[0m\u001b[0;34m\u001b[0m\u001b[0m\n",
            "\u001b[0;31mKeyboardInterrupt\u001b[0m: "
          ]
        }
      ]
    },
    {
      "cell_type": "markdown",
      "metadata": {
        "id": "en4FEtwTcIrp"
      },
      "source": [
        "## Model Testing"
      ]
    },
    {
      "cell_type": "code",
      "metadata": {
        "id": "wsn4L47-cJ1q"
      },
      "source": [
        "# load the handwriting OCR model\n",
        "print(\"[INFO] loading handwriting OCR model...\")\n",
        "model = load_model('ocr_model.h5')\n",
        "\n",
        "# load the input image from disk, convert it to grayscale, and blur\n",
        "# it to reduce noise\n",
        "image = cv2.imread('plate.png')\n",
        "gray = cv2.cvtColor(image, cv2.COLOR_BGR2GRAY)\n",
        "blurred = cv2.GaussianBlur(gray, (5, 5), 0)\n",
        "\n",
        "# perform edge detection, find contours in the edge map, and sort the\n",
        "# resulting contours from left-to-right\n",
        "edged = cv2.Canny(blurred, 30, 150)\n",
        "cnts = cv2.findContours(edged.copy(), cv2.RETR_EXTERNAL,\n",
        "\tcv2.CHAIN_APPROX_SIMPLE)\n",
        "cnts = imutils.grab_contours(cnts)\n",
        "cnts = sort_contours(cnts, method=\"left-to-right\")[0]\n",
        "\n",
        "# initialize the list of contour bounding boxes and associated\n",
        "# characters that we'll be OCR'ing\n",
        "chars = []\n",
        "\n",
        "# loop over the contours\n",
        "for c in cnts:\n",
        "\t# compute the bounding box of the contour\n",
        "\t(x, y, w, h) = cv2.boundingRect(c)\n",
        "\n",
        "\t# filter out bounding boxes, ensuring they are neither too small\n",
        "\t# nor too large\n",
        "\tif (w >= 5 and w <= 150) and (h >= 15 and h <= 120):\n",
        "\t\t# extract the character and threshold it to make the character\n",
        "\t\t# appear as *white* (foreground) on a *black* background, then\n",
        "\t\t# grab the width and height of the thresholded image\n",
        "\t\troi = gray[y:y + h, x:x + w]\n",
        "\t\tthresh = cv2.threshold(roi, 0, 255,\n",
        "\t\t\tcv2.THRESH_BINARY_INV | cv2.THRESH_OTSU)[1]\n",
        "\t\t(tH, tW) = thresh.shape\n",
        "\n",
        "\t\t# if the width is greater than the height, resize along the\n",
        "\t\t# width dimension\n",
        "\t\tif tW > tH:\n",
        "\t\t\tthresh = imutils.resize(thresh, width=32)\n",
        "\n",
        "\t\t# otherwise, resize along the height\n",
        "\t\telse:\n",
        "\t\t\tthresh = imutils.resize(thresh, height=32)\n",
        "\n",
        "\t\t# re-grab the image dimensions (now that its been resized)\n",
        "\t\t# and then determine how much we need to pad the width and\n",
        "\t\t# height such that our image will be 32x32\n",
        "\t\t(tH, tW) = thresh.shape\n",
        "\t\tdX = int(max(0, 32 - tW) / 2.0)\n",
        "\t\tdY = int(max(0, 32 - tH) / 2.0)\n",
        "\n",
        "\t\t# pad the image and force 32x32 dimensions\n",
        "\t\tpadded = cv2.copyMakeBorder(thresh, top=dY, bottom=dY,\n",
        "\t\t\tleft=dX, right=dX, borderType=cv2.BORDER_CONSTANT,\n",
        "\t\t\tvalue=(0, 0, 0))\n",
        "\t\tpadded = cv2.resize(padded, (32, 32))\n",
        "\n",
        "\t\t# prepare the padded image for classification via our\n",
        "\t\t# handwriting OCR model\n",
        "\t\tpadded = padded.astype(\"float32\") / 255.0\n",
        "\t\tpadded = np.expand_dims(padded, axis=-1)\n",
        "\n",
        "\t\t# update our list of characters that will be OCR'd\n",
        "\t\tchars.append((padded, (x, y, w, h)))\n",
        "\n",
        "# extract the bounding box locations and padded characters\n",
        "boxes = [b[1] for b in chars]\n",
        "chars = np.array([c[0] for c in chars], dtype=\"float32\")\n",
        "\n",
        "# OCR the characters using our handwriting recognition model\n",
        "preds = model.predict(chars)\n",
        "\n",
        "# define the list of label names\n",
        "labelNames = \"0123456789\"\n",
        "labelNames += \"ABCDEFGHIJKLMNOPQRSTUVWXYZ\"\n",
        "labelNames = [l for l in labelNames]\n",
        "\n",
        "# loop over the predictions and bounding box locations together\n",
        "for (pred, (x, y, w, h)) in zip(preds, boxes):\n",
        "\t# find the index of the label with the largest corresponding\n",
        "\t# probability, then extract the probability and label\n",
        "\ti = np.argmax(pred)\n",
        "\tprob = pred[i]\n",
        "\tlabel = labelNames[i]\n",
        "\n",
        "\t# draw the prediction on the image\n",
        "\tprint(\"[INFO] {} - {:.2f}%\".format(label, prob * 100))\n",
        "\tcv2.rectangle(image, (x, y), (x + w, y + h), (0, 255, 0), 2)\n",
        "\tcv2.putText(image, label, (x - 10, y - 10),\n",
        "\t\tcv2.FONT_HERSHEY_SIMPLEX, 1.2, (0, 255, 0), 2)\n",
        "\n",
        "# show the image\n",
        "print(\"Image\")\n",
        "cv2_imshow(image)\n"
      ],
      "execution_count": null,
      "outputs": []
    },
    {
      "cell_type": "code",
      "metadata": {
        "colab": {
          "base_uri": "https://localhost:8080/",
          "height": 184
        },
        "id": "GZqevPkphvUF",
        "outputId": "72850bb8-bc84-45ca-969a-d5a90ae16c13"
      },
      "source": [
        "# load the handwriting OCR model\n",
        "print(\"[INFO] loading handwriting OCR model...\")\n",
        "model = load_model('ocr_model.h5')\n",
        "\n",
        "# load the input image from disk, convert it to grayscale, and blur\n",
        "# it to reduce noise\n",
        "image = cv2.imread('plate.png')\n",
        "gray = cv2.cvtColor(image, cv2.COLOR_BGR2GRAY)\n",
        "\n",
        "cnts = cv2.findContours(gray, cv2.RETR_EXTERNAL, cv2.CHAIN_APPROX_SIMPLE)\n",
        "cnts = imutils.grab_contours(cnts)\n",
        "cnts = sort_contours(cnts, method=\"left-to-right\")[0]\n",
        "\n",
        "# initialize the list of contour bounding boxes and associated\n",
        "# characters that we'll be OCR'ing\n",
        "chars = []\n",
        "\n",
        "ima = image.copy()\n",
        "for c in cnts:\n",
        "  cv2.rectangle(ima, (x, y), (x + w, y + h), (0, 255, 0), 2)\n",
        "cv2_imshow(ima)\n",
        "\n",
        "# loop over the contours\n",
        "for c in cnts:\n",
        "  (x, y, w, h) = cv2.boundingRect(c)\n",
        "  roi = gray[y:y + h, x:x + w]\n",
        "  thresh = cv2.threshold(roi, 0, 255, cv2.THRESH_BINARY_INV | cv2.THRESH_OTSU)[1]\n",
        "  (tH, tW) = thresh.shape\n",
        "\n",
        "\n",
        "  (tH, tW) = thresh.shape\n",
        "  dX = int(max(0, 32 - tW) / 2.0)\n",
        "  dY = int(max(0, 32 - tH) / 2.0)\n",
        "\n",
        "  # pad the image and force 32x32 dimensions\n",
        "  padded = cv2.copyMakeBorder(thresh, top=dY, bottom=dY,\n",
        "    left=dX, right=dX, borderType=cv2.BORDER_CONSTANT,\n",
        "    value=(0, 0, 0))\n",
        "  padded = cv2.resize(padded, (32, 32))\n",
        "\n",
        "  # prepare the padded image for classification via our\n",
        "  # handwriting OCR model\n",
        "  padded = padded.astype(\"float32\") / 255.0\n",
        "  padded = np.expand_dims(padded, axis=-1)\n",
        "\n",
        "  # update our list of characters that will be OCR'd\n",
        "  chars.append((padded, (x, y, w, h)))\n",
        "\n",
        "# extract the bounding box locations and padded characters\n",
        "boxes = [b[1] for b in chars]\n",
        "chars = np.array([c[0] for c in chars], dtype=\"float32\")\n",
        "\n",
        "# OCR the characters using our handwriting recognition model\n",
        "preds = model.predict(chars)\n",
        "\n",
        "# define the list of label names\n",
        "labelNames = \"0123456789\"\n",
        "labelNames += \"ABCDEFGHIJKLMNOPQRSTUVWXYZ\"\n",
        "labelNames = [l for l in labelNames]\n",
        "\n",
        "# loop over the predictions and bounding box locations together\n",
        "for (pred, (x, y, w, h)) in zip(preds, boxes):\n",
        "\t# find the index of the label with the largest corresponding\n",
        "\t# probability, then extract the probability and label\n",
        "\ti = np.argmax(pred)\n",
        "\tprob = pred[i]\n",
        "\tlabel = labelNames[i]\n",
        "\n",
        "\t# draw the prediction on the image\n",
        "\tprint(\"[INFO] {} - {:.2f}%\".format(label, prob * 100))\n",
        "\tcv2.rectangle(image, (x, y), (x + w, y + h), (0, 255, 0), 2)\n",
        "\tcv2.putText(image, label, (x - 10, y - 10),\n",
        "\t\tcv2.FONT_HERSHEY_SIMPLEX, 1.2, (0, 255, 0), 2)\n",
        "\n",
        "# show the image\n",
        "print(\"Image\")\n",
        "cv2_imshow(image)\n"
      ],
      "execution_count": null,
      "outputs": [
        {
          "output_type": "stream",
          "name": "stdout",
          "text": [
            "[INFO] loading handwriting OCR model...\n"
          ]
        },
        {
          "output_type": "display_data",
          "data": {
            "image/png": "[encoded data removed]",
            "text/plain": [
              "<PIL.Image.Image image mode=RGB size=212x40 at 0x7FEF654A1B10>"
            ]
          },
          "metadata": {}
        },
        {
          "output_type": "stream",
          "name": "stdout",
          "text": [
            "WARNING:tensorflow:6 out of the last 6 calls to <function Model.make_predict_function.<locals>.predict_function at 0x7fefd85be830> triggered tf.function retracing. Tracing is expensive and the excessive number of tracings could be due to (1) creating @tf.function repeatedly in a loop, (2) passing tensors with different shapes, (3) passing Python objects instead of tensors. For (1), please define your @tf.function outside of the loop. For (2), @tf.function has experimental_relax_shapes=True option that relaxes argument shapes that can avoid unnecessary retracing. For (3), please refer to https://www.tensorflow.org/guide/function#controlling_retracing and https://www.tensorflow.org/api_docs/python/tf/function for  more details.\n",
            "[INFO] 6 - 61.42%\n",
            "Image\n"
          ]
        },
        {
          "output_type": "display_data",
          "data": {
            "image/png": "[encoded data removed]",
            "text/plain": [
              "<PIL.Image.Image image mode=RGB size=212x40 at 0x7FEFD8605C50>"
            ]
          },
          "metadata": {}
        }
      ]
    },
    {
      "cell_type": "code",
      "metadata": {
        "id": "DUlTwF05ifs-"
      },
      "source": [
        ""
      ],
      "execution_count": null,
      "outputs": []
    }
  ]
}